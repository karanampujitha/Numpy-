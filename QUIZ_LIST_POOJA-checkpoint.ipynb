{
 "cells": [
  {
   "cell_type": "code",
   "execution_count": 2,
   "metadata": {},
   "outputs": [
    {
     "name": "stdout",
     "output_type": "stream",
     "text": [
      "[1, 2, 3, 4, 1, 2, 3, 4]\n"
     ]
    }
   ],
   "source": [
    "#1. x = [1,2,3,4],Multiply this list with 2\n",
    "x = [1,2,3,4]*2\n",
    "print(x)"
   ]
  },
  {
   "cell_type": "code",
   "execution_count": 3,
   "metadata": {},
   "outputs": [
    {
     "name": "stdout",
     "output_type": "stream",
     "text": [
      "[1, 2, 3, 4, 1, 2, 3, 4, [5, 6, 7, 8, 4]]\n"
     ]
    }
   ],
   "source": [
    "# 2. y = [5,6,7,8,4],add above x in y\n",
    "y = [5,6,7,8,4]\n",
    "x.append(y)\n",
    "print(x)"
   ]
  },
  {
   "cell_type": "code",
   "execution_count": 4,
   "metadata": {},
   "outputs": [
    {
     "name": "stdout",
     "output_type": "stream",
     "text": [
      "[]\n"
     ]
    }
   ],
   "source": [
    "#3. remove all the elements from your list myself \n",
    "myself = ['i love nature']\n",
    "myself.clear()\n",
    "print(myself)"
   ]
  },
  {
   "cell_type": "code",
   "execution_count": 5,
   "metadata": {},
   "outputs": [
    {
     "name": "stdout",
     "output_type": "stream",
     "text": [
      "12\n"
     ]
    }
   ],
   "source": [
    "#4.return the length of the list below\n",
    "z = [1,2,3,4,5,54,3,2,1,4,64,3]\n",
    "print(len(z))"
   ]
  },
  {
   "cell_type": "code",
   "execution_count": 6,
   "metadata": {},
   "outputs": [
    {
     "name": "stdout",
     "output_type": "stream",
     "text": [
      "[64, 54, 5, 4, 4, 3, 3, 3, 2, 2, 1, 1]\n"
     ]
    }
   ],
   "source": [
    "#5.sort the z list above into descending order\n",
    "z.sort(reverse = True)\n",
    "print(z)"
   ]
  },
  {
   "cell_type": "code",
   "execution_count": 7,
   "metadata": {},
   "outputs": [
    {
     "name": "stdout",
     "output_type": "stream",
     "text": [
      "[1, 2, 3, 4, 5, 54, 3, 2, 1, 4, 64, 3]\n"
     ]
    }
   ],
   "source": [
    "#6. insert a value as 123345 in the list  below at a specific indes 5.\n",
    "z = [1,2,3,4,5,54,3,2,1,4,64,3]\n",
    "#insert(6,123345)\n",
    "print(z)"
   ]
  },
  {
   "cell_type": "code",
   "execution_count": 12,
   "metadata": {},
   "outputs": [
    {
     "data": {
      "text/plain": [
       "[1, 2, 3]"
      ]
     },
     "execution_count": 12,
     "metadata": {},
     "output_type": "execute_result"
    }
   ],
   "source": [
    "#7.get te first  element out of the above list into a list only \n",
    "z = [[1,2,3],[4,5,54],[3,2,1],[4,64,3]]\n",
    "#slicing operator\n",
    "z[0]"
   ]
  },
  {
   "cell_type": "code",
   "execution_count": 13,
   "metadata": {},
   "outputs": [
    {
     "name": "stdout",
     "output_type": "stream",
     "text": [
      "[1, 2, 3, 4, 5, 54, 64]\n",
      "[1, 2, 3, 4, 5, 54, 3, 2, 1, 4, 64, 3]\n"
     ]
    }
   ],
   "source": [
    "#8. remove duplicates in the above list \n",
    "z = [1,2,3,4,5,54,3,2,1,4,64,3]\n",
    "def remove_duplicates(duplist):\n",
    "    noduplist = []\n",
    "    for element in duplist:\n",
    "        if element not in  noduplist:\n",
    "            noduplist.append(element)\n",
    "    return noduplist \n",
    "\n",
    "print(remove_duplicates(z))\n",
    "print(z)\n",
    "    "
   ]
  },
  {
   "cell_type": "code",
   "execution_count": 14,
   "metadata": {},
   "outputs": [
    {
     "data": {
      "text/plain": [
       "{4}"
      ]
     },
     "execution_count": 14,
     "metadata": {},
     "output_type": "execute_result"
    }
   ],
   "source": [
    "#9.find the intersection between two list below \n",
    "x = [1,2,3,4]\n",
    "y = [5,6,7,8,4]\n",
    "set(x).intersection(y)"
   ]
  },
  {
   "cell_type": "code",
   "execution_count": 15,
   "metadata": {},
   "outputs": [
    {
     "name": "stdout",
     "output_type": "stream",
     "text": [
      "(1, 2, 3, 4, 5, 54, 3, 2, 1, 4, 64, 3)\n",
      "[1, 2, 3, 4, 5, 54, 64]\n"
     ]
    }
   ],
   "source": [
    "#8. remove duplicates in the above list \n",
    "z = [1,2,3,4,5,54,3,2,1,4,64,3]\n",
    "print(tuple(z))\n",
    "z = list(dict.fromkeys(z))\n",
    "print(z)"
   ]
  },
  {
   "cell_type": "code",
   "execution_count": 16,
   "metadata": {},
   "outputs": [
    {
     "name": "stdout",
     "output_type": "stream",
     "text": [
      "[1, 4, 3, 4]\n"
     ]
    }
   ],
   "source": [
    "#10.return every 3rd elements in the below list between values\n",
    "z = [1,2,3,4,5,54,3,2,1,4,64,3]\n",
    "print(z[0:11:3])"
   ]
  },
  {
   "cell_type": "code",
   "execution_count": 17,
   "metadata": {},
   "outputs": [
    {
     "name": "stdout",
     "output_type": "stream",
     "text": [
      "1.24\n",
      "-1.243\n",
      "1627731\n"
     ]
    }
   ],
   "source": [
    "#11.use built in round function to get fixed number of decimal places \n",
    "#1.23742    ------- make it 1.24\n",
    "#-1.243225   ------ make it -1.243\n",
    "#1627731    ------- make it 1628000\n",
    "print(round(1.23742,2))\n",
    "print(round(-1.243225,3))\n",
    "print(round(1627731,3))"
   ]
  },
  {
   "cell_type": "code",
   "execution_count": 18,
   "metadata": {},
   "outputs": [
    {
     "name": "stdout",
     "output_type": "stream",
     "text": [
      "1.234567\n",
      "2.123457\n"
     ]
    }
   ],
   "source": [
    "#11a.use built -in format function to round with formatting value.\n",
    "#x = 1.234567 ------ into 1.23\n",
    "#y = 2.234567 ------ into 2.12345\n",
    "x = 1.234567\n",
    "y = 2.1234567\n",
    "print(format(x,'-2f'))\n",
    "print(format(y,\"-5f\"))\n"
   ]
  },
  {
   "cell_type": "code",
   "execution_count": 19,
   "metadata": {},
   "outputs": [
    {
     "name": "stdout",
     "output_type": "stream",
     "text": [
      "1234\n",
      "0b10011010010\n",
      "1234\n",
      "0o2322\n",
      "1234\n",
      "0x4d2\n"
     ]
    }
   ],
   "source": [
    "#11 b. working with binary ,actul and hexadecimal in python\n",
    "# to convert an integer into a binary ,actal, or  hexadecimal text string ,use the bin(),oct()or hex() function ,respectively\n",
    "\n",
    "#convert below  values into binary values ,actual values, and  hexadecimal values:\n",
    "#x = 1234    y = 15    z  = 100\n",
    "x = 1234\n",
    "bin_z= print(x)\n",
    "print(bin(x))\n",
    "oct_z=print(x)\n",
    "print(oct(x))\n",
    "hex_z=print(x)\n",
    "print(hex(x))\n"
   ]
  },
  {
   "cell_type": "code",
   "execution_count": 1,
   "metadata": {},
   "outputs": [
    {
     "data": {
      "text/plain": [
       "1234"
      ]
     },
     "execution_count": 1,
     "metadata": {},
     "output_type": "execute_result"
    }
   ],
   "source": [
    "#'4d2' with base 16 (hexadecimal)\n",
    "# '10011010010' with base 2(binary)\n",
    "x = 0x4d2\n",
    "int(x)"
   ]
  },
  {
   "cell_type": "code",
   "execution_count": 2,
   "metadata": {},
   "outputs": [
    {
     "data": {
      "text/plain": [
       "1234"
      ]
     },
     "execution_count": 2,
     "metadata": {},
     "output_type": "execute_result"
    }
   ],
   "source": [
    "x = 0b10011010010\n",
    "int(x)"
   ]
  },
  {
   "cell_type": "code",
   "execution_count": null,
   "metadata": {},
   "outputs": [],
   "source": []
  }
 ],
 "metadata": {
  "kernelspec": {
   "display_name": "Python 3",
   "language": "python",
   "name": "python3"
  },
  "language_info": {
   "codemirror_mode": {
    "name": "ipython",
    "version": 3
   },
   "file_extension": ".py",
   "mimetype": "text/x-python",
   "name": "python",
   "nbconvert_exporter": "python",
   "pygments_lexer": "ipython3",
   "version": "3.8.5"
  }
 },
 "nbformat": 4,
 "nbformat_minor": 4
}
