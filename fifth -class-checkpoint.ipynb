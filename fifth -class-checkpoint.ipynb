{
 "cells": [
  {
   "cell_type": "code",
   "execution_count": null,
   "metadata": {},
   "outputs": [],
   "source": [
    "list ......[]...we want to store  different data types in it .and different size of data ...\n",
    "list =bucket....you can add more data ...inside it..\n",
    "\n",
    "tuple...()...\n",
    "\n",
    "list...append..delete...insert..iterable...,extract any item...\n",
    "\n",
    "you can insert dictionary also in list \n",
    "\n",
    "insert any kind of data  type ....string\n",
    "\n",
    "tuple...x,x,x, iterable ,,extracting...element is possibele...[] operator....\n"
   ]
  },
  {
   "cell_type": "code",
   "execution_count": 1,
   "metadata": {},
   "outputs": [
    {
     "data": {
      "text/plain": [
       "(1, 2, 3, 4, 'pooja')"
      ]
     },
     "execution_count": 1,
     "metadata": {},
     "output_type": "execute_result"
    }
   ],
   "source": [
    "#tuple....\n",
    "abc=1,2,3,4,'pooja'\n",
    "abc\n",
    "type(abc);abc\n",
    "tuple (abc)"
   ]
  },
  {
   "cell_type": "code",
   "execution_count": 2,
   "metadata": {},
   "outputs": [
    {
     "data": {
      "text/plain": [
       "tuple"
      ]
     },
     "execution_count": 2,
     "metadata": {},
     "output_type": "execute_result"
    }
   ],
   "source": [
    "aa=(1,2,3,4,5,6,7,489,'tomato','mango')\n",
    "type(aa)"
   ]
  },
  {
   "cell_type": "code",
   "execution_count": 4,
   "metadata": {},
   "outputs": [
    {
     "data": {
      "text/plain": [
       "['a', 3, 'red', 'elephant', 23, 45, 68, 7, 254, 2, 34, 4]"
      ]
     },
     "execution_count": 4,
     "metadata": {},
     "output_type": "execute_result"
    }
   ],
   "source": [
    "cba=['a',3,'red','elephant',23,45,68,7,254,2,34,4]\n",
    "cba\n",
    "#type(cba)\n",
    "#tuple(cba)\n",
    "#list(abc)"
   ]
  },
  {
   "cell_type": "code",
   "execution_count": 9,
   "metadata": {},
   "outputs": [
    {
     "data": {
      "text/plain": [
       "['pooja karanam', 'anantapur', 'surya', 'kajal', 8, 'munnar']"
      ]
     },
     "execution_count": 9,
     "metadata": {},
     "output_type": "execute_result"
    }
   ],
   "source": [
    "#opertions ...with a list ...\n",
    "\n",
    "# extracting of items ....\n",
    "#cba[-1][-1]\n",
    "\n",
    "#slicing operator..\n",
    "\n",
    "#cba[0:-1:2]\n",
    "\n",
    "myself=['pooja karanam','anantapur','surya','kajal',8,'munnar']\n",
    "myself\n"
   ]
  },
  {
   "cell_type": "code",
   "execution_count": 15,
   "metadata": {},
   "outputs": [
    {
     "data": {
      "text/plain": [
       "['karanam pooja', 'munnar']"
      ]
     },
     "execution_count": 15,
     "metadata": {},
     "output_type": "execute_result"
    }
   ],
   "source": [
    "myself=['karanam pooja','anantapur','surya','kajal',8,'munnar']\n",
    "myself[0:6:5]"
   ]
  },
  {
   "cell_type": "code",
   "execution_count": 3,
   "metadata": {},
   "outputs": [
    {
     "data": {
      "text/plain": [
       "(1, 2, 3, 4, 5, 6998, 'pooja', 'laddu')"
      ]
     },
     "execution_count": 3,
     "metadata": {},
     "output_type": "execute_result"
    }
   ],
   "source": [
    "cba=(1,2,3,4,5,6998,'pooja','laddu')\n",
    "cba"
   ]
  },
  {
   "cell_type": "code",
   "execution_count": 4,
   "metadata": {},
   "outputs": [
    {
     "data": {
      "text/plain": [
       "tuple"
      ]
     },
     "execution_count": 4,
     "metadata": {},
     "output_type": "execute_result"
    }
   ],
   "source": [
    "bba =(12,32,42,98,'maggi','hrudaya')\n",
    "type(bba)"
   ]
  },
  {
   "cell_type": "code",
   "execution_count": null,
   "metadata": {},
   "outputs": [],
   "source": []
  },
  {
   "cell_type": "code",
   "execution_count": null,
   "metadata": {},
   "outputs": [],
   "source": []
  }
 ],
 "metadata": {
  "kernelspec": {
   "display_name": "Python 3",
   "language": "python",
   "name": "python3"
  },
  "language_info": {
   "codemirror_mode": {
    "name": "ipython",
    "version": 3
   },
   "file_extension": ".py",
   "mimetype": "text/x-python",
   "name": "python",
   "nbconvert_exporter": "python",
   "pygments_lexer": "ipython3",
   "version": "3.8.5"
  }
 },
 "nbformat": 4,
 "nbformat_minor": 4
}
