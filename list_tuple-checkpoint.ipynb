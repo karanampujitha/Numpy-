{
 "cells": [
  {
   "cell_type": "markdown",
   "metadata": {},
   "source": [
    "list ..... [] ... we want to store different data  types\n",
    "in it...and different size of data....\n",
    "\n",
    "list = bucket.....you can add more data..inside it..\n",
    "\n",
    "tuple .... ().....\n",
    "\n",
    "\n",
    "list... append..delete, insert...iterable.., extract any item...\n",
    "\n",
    "insert any kind of data type...string, num, float, tuple, dictionary..\n",
    "data analysis...list. alot..\n",
    "\n",
    "\n",
    "tuple..x,x,x,iterable,,extracting...element is possible ... [] operator.."
   ]
  },
  {
   "cell_type": "code",
   "execution_count": 16,
   "metadata": {},
   "outputs": [
    {
     "data": {
      "text/plain": [
       "(1, 2, 3, 4, 'pooja')"
      ]
     },
     "execution_count": 16,
     "metadata": {},
     "output_type": "execute_result"
    }
   ],
   "source": [
    "# tuple....\n",
    "\n",
    "abc = 1,2,3,4,'pooja'\n",
    "abc\n",
    "type(abc);abc\n",
    "tuple(abc)"
   ]
  },
  {
   "cell_type": "code",
   "execution_count": 15,
   "metadata": {},
   "outputs": [
    {
     "data": {
      "text/plain": [
       "(1, 2, 3, 4, 5, 6, 7, 489, 'tomato', 'mango')"
      ]
     },
     "execution_count": 15,
     "metadata": {},
     "output_type": "execute_result"
    }
   ],
   "source": [
    "aa = (1,2,3,4,5,6,7,489,'tomato','mango')\n",
    "aa"
   ]
  },
  {
   "cell_type": "code",
   "execution_count": 35,
   "metadata": {},
   "outputs": [
    {
     "data": {
      "text/plain": [
       "['a', 3, 'red', 'elephant', 23, 45, 65, 67, 7, 645, 3, 345, 6]"
      ]
     },
     "execution_count": 35,
     "metadata": {},
     "output_type": "execute_result"
    }
   ],
   "source": [
    "cba = ['a',3,'red','elephant',23,45,65,67,7,645,3,345,6]\n",
    "cba\n",
    "# type(cba)\n",
    "# tuple(cba)\n",
    "# list(abc)"
   ]
  },
  {
   "cell_type": "code",
   "execution_count": 40,
   "metadata": {},
   "outputs": [
    {
     "data": {
      "text/plain": [
       "['nasir', 'delhi', 'myself', 21345, 'kashmir']"
      ]
     },
     "execution_count": 40,
     "metadata": {},
     "output_type": "execute_result"
    }
   ],
   "source": [
    "# operations... with a list...\n",
    "\n",
    "# extraction of items...\n",
    "# cba[-1][-1]\n",
    "\n",
    "# slicing operator...\n",
    "\n",
    "# cba[0:-1:2]\n",
    "\n",
    "myself = ['nasir','delhi','myself',21345,'kashmir']\n",
    "myself"
   ]
  },
  {
   "cell_type": "code",
   "execution_count": 45,
   "metadata": {},
   "outputs": [
    {
     "data": {
      "text/plain": [
       "['nasir', 'kashmir']"
      ]
     },
     "execution_count": 45,
     "metadata": {},
     "output_type": "execute_result"
    }
   ],
   "source": [
    "myself[0:5:4]\n",
    "\n",
    "\n",
    "# learn append operation\n",
    "# insert operation\n",
    "# pop operation\n",
    "# "
   ]
  }
 ],
 "metadata": {
  "kernelspec": {
   "display_name": "Python 3",
   "language": "python",
   "name": "python3"
  },
  "language_info": {
   "codemirror_mode": {
    "name": "ipython",
    "version": 3
   },
   "file_extension": ".py",
   "mimetype": "text/x-python",
   "name": "python",
   "nbconvert_exporter": "python",
   "pygments_lexer": "ipython3",
   "version": "3.8.5"
  }
 },
 "nbformat": 4,
 "nbformat_minor": 4
}
